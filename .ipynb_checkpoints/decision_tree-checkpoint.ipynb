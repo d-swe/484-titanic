{
 "cells": [
  {
   "cell_type": "code",
   "execution_count": 18,
   "id": "80fc1256",
   "metadata": {},
   "outputs": [],
   "source": [
    "import pandas as pd\n",
    "from sklearn.model_selection import train_test_split\n",
    "from sklearn.tree import DecisionTreeClassifier\n",
    "from sklearn.metrics import accuracy_score\n",
    "from sklearn.preprocessing import LabelEncoder\n",
    "\n",
    "train_data = pd.read_csv('titantic_data/train.csv')\n",
    "test_data = pd.read_csv('titantic_data/test.csv')"
   ]
  },
  {
   "cell_type": "code",
   "execution_count": 19,
   "id": "264f1f94",
   "metadata": {},
   "outputs": [],
   "source": [
    "def preprocess_data(data):\n",
    "    # Fill missing values\n",
    "    data['Age'].fillna(data['Age'].median(), inplace=True)\n",
    "    data['Embarked'].fillna(data['Embarked'].mode()[0], inplace=True)\n",
    "    data['Fare'].fillna(data['Fare'].median(), inplace=True)\n",
    "\n",
    "    # Convert categorical variables to numeric\n",
    "    label_encoder = LabelEncoder()\n",
    "    data['Sex'] = label_encoder.fit_transform(data['Sex'])\n",
    "    data['Embarked'] = label_encoder.fit_transform(data['Embarked'])\n",
    "\n",
    "    features = ['Pclass', 'Sex', 'Age', 'SibSp', 'Parch', 'Fare', 'Embarked']\n",
    "    X = data[features]\n",
    "    return X"
   ]
  },
  {
   "cell_type": "code",
   "execution_count": 20,
   "id": "90dc5b02",
   "metadata": {},
   "outputs": [
    {
     "name": "stdout",
     "output_type": "stream",
     "text": [
      "Validation Accuracy: 0.7877094972067039\n"
     ]
    }
   ],
   "source": [
    "X_train = preprocess_data(train_data)\n",
    "y_train = train_data['Survived']\n",
    "\n",
    "# Split data\n",
    "X_train_split, X_val_split, y_train_split, y_val_split = train_test_split(X_train, y_train, test_size=0.2, random_state=0)\n",
    "\n",
    "# Build the decision tree\n",
    "model = DecisionTreeClassifier(random_state=0)\n",
    "model.fit(X_train_split, y_train_split)\n",
    "\n",
    "# Evaluate the model\n",
    "predictions = model.predict(X_val_split)\n",
    "accuracy = accuracy_score(y_val_split, predictions)\n",
    "print(f\"Validation Accuracy: {accuracy}\")"
   ]
  },
  {
   "cell_type": "code",
   "execution_count": null,
   "id": "8cd6e131",
   "metadata": {},
   "outputs": [],
   "source": []
  }
 ],
 "metadata": {
  "kernelspec": {
   "display_name": "Python 3 (ipykernel)",
   "language": "python",
   "name": "python3"
  },
  "language_info": {
   "codemirror_mode": {
    "name": "ipython",
    "version": 3
   },
   "file_extension": ".py",
   "mimetype": "text/x-python",
   "name": "python",
   "nbconvert_exporter": "python",
   "pygments_lexer": "ipython3",
   "version": "3.11.4"
  }
 },
 "nbformat": 4,
 "nbformat_minor": 5
}
