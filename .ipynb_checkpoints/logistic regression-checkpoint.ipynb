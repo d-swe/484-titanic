{
 "cells": [
  {
   "cell_type": "code",
   "execution_count": 3,
   "id": "84af2282",
   "metadata": {},
   "outputs": [
    {
     "name": "stdout",
     "output_type": "stream",
     "text": [
      "     PassengerId  Survived\n",
      "0            892         0\n",
      "1            893         1\n",
      "2            894         0\n",
      "3            895         0\n",
      "4            896         1\n",
      "..           ...       ...\n",
      "413         1305         0\n",
      "414         1306         1\n",
      "415         1307         0\n",
      "416         1308         0\n",
      "417         1309         0\n",
      "\n",
      "[418 rows x 2 columns]\n"
     ]
    }
   ],
   "source": [
    "import pandas as pd\n",
    "from sklearn.linear_model import LogisticRegression\n",
    "\n",
    "# Load training and testing values, print out the first 10 if needed.\n",
    "train_data = pd.read_csv(\"titantic_data/train.csv\")\n",
    "test_data = pd.read_csv(\"titantic_data/test.csv\")\n",
    "#train_data.head(10)\n",
    "\n",
    "# X is the features and y is the label, pd.get_dummies helps convert the strings into usable values such as Sex -> {1,0)}.\n",
    "X_train = pd.get_dummies(train_data[[\"Pclass\", \"Sex\", \"SibSp\", \"Parch\"]]) \n",
    "y_train = train_data['Survived']  \n",
    "\n",
    "# Make the model and fit it, then make predictions.\n",
    "model = LogisticRegression()\n",
    "model.fit(X_train, y_train)\n",
    "\n",
    "X_test = pd.get_dummies(test_data[[\"Pclass\", \"Sex\", \"SibSp\", \"Parch\"]]) \n",
    "y_pred = model.predict(X_test)\n",
    "\n",
    "# Make a datafram to output the info, then print.\n",
    "output_df = pd.DataFrame({'PassengerId': test_data['PassengerId'], 'Survived': y_pred})\n",
    "print(output_df)\n"
   ]
  },
  {
   "cell_type": "code",
   "execution_count": null,
   "id": "76dec220",
   "metadata": {},
   "outputs": [],
   "source": []
  }
 ],
 "metadata": {
  "kernelspec": {
   "display_name": "Python 3 (ipykernel)",
   "language": "python",
   "name": "python3"
  },
  "language_info": {
   "codemirror_mode": {
    "name": "ipython",
    "version": 3
   },
   "file_extension": ".py",
   "mimetype": "text/x-python",
   "name": "python",
   "nbconvert_exporter": "python",
   "pygments_lexer": "ipython3",
   "version": "3.11.5"
  }
 },
 "nbformat": 4,
 "nbformat_minor": 5
}
